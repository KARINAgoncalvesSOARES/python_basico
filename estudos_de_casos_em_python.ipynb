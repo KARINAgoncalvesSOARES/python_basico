{
  "nbformat": 4,
  "nbformat_minor": 0,
  "metadata": {
    "colab": {
      "provenance": [],
      "mount_file_id": "13gPtcGzD4R9ke1Kh8o9BkcQjwSDshcrf",
      "authorship_tag": "ABX9TyONEWiuHdx2rcyaK9LYvr7d",
      "include_colab_link": true
    },
    "kernelspec": {
      "name": "python3",
      "display_name": "Python 3"
    },
    "language_info": {
      "name": "python"
    }
  },
  "cells": [
    {
      "cell_type": "markdown",
      "metadata": {
        "id": "view-in-github",
        "colab_type": "text"
      },
      "source": [
        "<a href=\"https://colab.research.google.com/github/KARINAgoncalvesSOARES/python_intermediario/blob/main/estudos_de_casos_em_python.ipynb\" target=\"_parent\"><img src=\"https://colab.research.google.com/assets/colab-badge.svg\" alt=\"Open In Colab\"/></a>"
      ]
    },
    {
      "cell_type": "markdown",
      "source": [
        "## Leitura, Manipulação e Visualização de Datasets\n",
        "\n",
        "Processaremos diferentes arquivos de dados para cada um dos exemplos desta\n",
        "seção; então, antes de começar, certifique-se que já baixou todos do ambiente."
      ],
      "metadata": {
        "id": "HdZ-nukAgHdW"
      }
    },
    {
      "cell_type": "markdown",
      "source": [
        "###Estudo de caso 1\n",
        "Precisamos apresentar um gráfico de barras para demonstrar o ganho de medalhas de cinco países, os dados serão criados manualmente neste estudo, visto que\n",
        "o intuito é demonstrar o uso de um gráfico de barras segmentadas. Eis o código:"
      ],
      "metadata": {
        "id": "b9544-7egavl"
      }
    },
    {
      "cell_type": "code",
      "execution_count": null,
      "metadata": {
        "id": "MqJ0zJ8yfd_p"
      },
      "outputs": [],
      "source": [
        "import numpy as np\n",
        "import matplotlib.pyplot as plt"
      ]
    },
    {
      "cell_type": "code",
      "source": [
        "# Relação de países da amostra\n",
        "paises = ['EUA', 'China', 'Brasil', 'Argentina', 'Alemanha']\n",
        "\n",
        "# Dados referentes a cada país da amostra e suas respectivas medalhas de ouro, prata e bronze, dados fictícios.\n",
        "bronze = np.array([38, 17, 26, 19, 15])\n",
        "prata = np.array([37, 23, 18, 18, 10])\n",
        "ouro = np.array([46, 27, 26, 19, 17])\n",
        "\n",
        "# Criação de um vetor de índices para o eixo x do gráfico\n",
        "ind = np.arange(len(paises))"
      ],
      "metadata": {
        "id": "_O2lHy4xhBd6"
      },
      "execution_count": null,
      "outputs": []
    },
    {
      "cell_type": "code",
      "source": [
        "# Barra de medalhas de ouro\n",
        "plt.bar(ind, ouro, label = 'Ouro', color = 'gold', bottom = prata+bronze)\n",
        "\n",
        "# Barra de medalhas de prata\n",
        "plt.bar(ind, prata, label='Prata', color='silver', bottom=bronze)\n",
        "\n",
        "# Barra de medalhas de bronze\n",
        "plt.bar(ind, bronze, label='Broze', color='#CD853F')\n",
        "\n",
        "# Associação dos nomes dos países para cada índice do eixo X\n",
        "plt.xticks(ind, paises)\n",
        "\n",
        "# Rótulos dos eixos X e Y\n",
        "plt.ylabel('Medalhas')\n",
        "plt.xlabel('Países')\n",
        "\n",
        "# Legenda padrão para as três medalhas\n",
        "plt.legend()\n",
        "\n",
        "# Título do gráfico\n",
        "plt.title('Medalhas - Olimpíadas 2018')\n",
        "plt.show()"
      ],
      "metadata": {
        "colab": {
          "base_uri": "https://localhost:8080/",
          "height": 295
        },
        "id": "KPpYE4Xbi9Oq",
        "outputId": "0f950c81-a1fa-4531-ecec-73ffba4481e0"
      },
      "execution_count": null,
      "outputs": [
        {
          "output_type": "display_data",
          "data": {
            "text/plain": [
              "<Figure size 432x288 with 1 Axes>"
            ],
            "image/png": "[encoded data removed]"
          },
          "metadata": {
            "needs_background": "light"
          }
        }
      ]
    },
    {
      "cell_type": "markdown",
      "source": [
        "###Estudo de caso 2\n",
        "\n",
        "Um setor público precisa visualizar os resultados das eleições presidenciais de 2018. É necessário criar um gráfico para demonstrar a quantidade de votos dos três\n",
        "candidatos mais votados. Tal gráfico deve evidenciar as porcentagens de cada um dos\n",
        "candidatos nas regiões Sudeste, Nordeste, Sul, Norte e Centro-Oeste. Eis o código:"
      ],
      "metadata": {
        "id": "48lyUekPncW0"
      }
    },
    {
      "cell_type": "code",
      "source": [
        "#import numpy as np\n",
        "#import matplotlib.pyplot as plt\n",
        "\n",
        "regioes = ['SUDESTE', 'NORDESTE', 'SUL', 'NORTE', 'CENTRO-OESTE']\n",
        "# Dados retirados do site\n",
        "# https://congressoemfoco.uol.com.br/eleicoes/acompanhe-por-aqui-aapuracao-de-votos-em-tempo-real/\n",
        "bolsonaro = np.array([53.965, 28.187, 58.446, 50.357, 57.677])\n",
        "\n",
        "haddad = np.array([20.74, 49.824, 19.213, 30.331, 20.59])\n",
        "\n",
        "ciro = np.array([11.937, 16.214, 8.786, 7.657, 9.707])\n",
        "\n",
        "index = np.arange(len(regioes))"
      ],
      "metadata": {
        "id": "_yUmxqLun0mW"
      },
      "execution_count": null,
      "outputs": []
    },
    {
      "cell_type": "code",
      "source": [
        "plt.bar(index, ciro, label='Ciro', color='yellow')\n",
        "plt.bar(index, haddad, label='Haddad', color='blue', bottom= ciro)\n",
        "plt.bar(index, bolsonaro, label='Bolsonaro', color='red', bottom= ciro+haddad)\n",
        "plt.xticks(index, regioes)\n",
        "plt.xlabel('Regiões')\n",
        "plt.legend()\n",
        "plt.title('Distribuição de presidenciáveis nas regiões brasileiras')\n",
        "plt.show()"
      ],
      "metadata": {
        "colab": {
          "base_uri": "https://localhost:8080/",
          "height": 295
        },
        "id": "_9m6VijFohwo",
        "outputId": "4afaac00-96bb-479e-9a13-d470484b7e6a"
      },
      "execution_count": null,
      "outputs": [
        {
          "output_type": "display_data",
          "data": {
            "text/plain": [
              "<Figure size 432x288 with 1 Axes>"
            ],
            "image/png": "[encoded data removed]"
          },
          "metadata": {
            "needs_background": "light"
          }
        }
      ]
    },
    {
      "cell_type": "markdown",
      "source": [
        "### Estudo de caso 3\n",
        "Para este estudo você encontrará os dados no arquivo axisdata.xlsx.\n",
        "\n",
        "Alcides é o gerente de vendas da Axis Auto e se prepara para uma reunião anual\n",
        "de vendas, necessitando, para tanto, de algumas análises e gráficos. Os dados presentes no dataset incluem o gênero, as horas trabalhadas, o treinamento, os anos\n",
        "de experiência e a média de carros vendidos no ano para cada membro da equipe.\n",
        "Assim, apresente:"
      ],
      "metadata": {
        "id": "qN-MOBtxwM_S"
      }
    },
    {
      "cell_type": "markdown",
      "source": [
        "#### A média de carros vendidos no ano pela sua equipe"
      ],
      "metadata": {
        "id": "fijKAWxxxZB7"
      }
    },
    {
      "cell_type": "code",
      "source": [],
      "metadata": {
        "id": "F5jOjvD2o8Bf"
      },
      "execution_count": null,
      "outputs": []
    }
  ]
}